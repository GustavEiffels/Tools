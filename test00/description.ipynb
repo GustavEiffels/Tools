{
 "cells": [
  {
   "cell_type": "markdown",
   "metadata": {},
   "source": [
    "## PYQT6"
   ]
  },
  {
   "cell_type": "markdown",
   "metadata": {},
   "source": [
    "PyQt6는 Python에서 Qt 프레임워크를 사용하여 GUI(Graphical User Interface) 애플리케이션을 개발할 수 있도록 해주는 라이브러리입니다.\n",
    "Qt는 C++ 기반의 강력한 GUI 프레임워크이며, PyQt6은 이를 Python에서 사용할 수 있도록 바인딩한 것입니다."
   ]
  },
  {
   "cell_type": "markdown",
   "metadata": {},
   "source": []
  }
 ],
 "metadata": {
  "language_info": {
   "name": "python"
  }
 },
 "nbformat": 4,
 "nbformat_minor": 2
}
